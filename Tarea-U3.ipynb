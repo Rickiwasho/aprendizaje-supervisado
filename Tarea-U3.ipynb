{
 "cells": [
  {
   "cell_type": "markdown",
   "metadata": {},
   "source": [
    "# Tarea Unidad 3 - Aprendizaje Supervisado"
   ]
  },
  {
   "cell_type": "markdown",
   "metadata": {},
   "source": [
    "Fecha de entrega: **Viernes 11 de Junio de 2021 a las 23:59**.\n",
    "\n",
    "- Consultas por slack o al correo felipe dot quezada at uach dot cl\n",
    "- 4 integrantes como maximo.\n",
    "\n",
    "Integrantes:\n",
    "- Ricardo Coronado\n",
    "- Diego Sandoval\n"
   ]
  },
  {
   "cell_type": "code",
   "execution_count": null,
   "metadata": {},
   "outputs": [],
   "source": [
    "%matplotlib notebook\n",
    "import matplotlib.pyplot as plt\n",
    "import pandas as pd\n",
    "import numpy as np"
   ]
  },
  {
   "cell_type": "markdown",
   "metadata": {},
   "source": [
    "La tarea consiste en resolver 2 problemas utilizando los contenidos vistos hasta ahora. En la carpetas `datos/` se encuentran el dataset para el segundo problema. Para el primero problema, existe un link a un archivo compartido en google drive, que se encuentra mas abajo."
   ]
  },
  {
   "cell_type": "markdown",
   "metadata": {},
   "source": [
    "# 1: Clasificacion de Asteroides"
   ]
  },
  {
   "cell_type": "markdown",
   "metadata": {},
   "source": [
    "**ALERTA! IMPACTO DE ASTEROIDE!** La nueva base espacial de Pluto esta constantemente bajo ataque de asteroides provenientes de un agujero blanco cercano. No son asteroides muy grandes, pero si han causado importantes daños en la infraestructura. Por esta razon, la Union Intergalactica Terrestre le ha pedido a usted, como experto en aprendizaje supervisado, hacerse cargo del problema. La base cuenta con equipamiento especial para detectar y pulverizar a los asteroides, sin embargo, como los recursos son limitados, se debe usar correctamente. Las características del asteroide se pueden calcular al instante con instrumentos especializados, solo hace falta alguna manera de poder utilizar esa información y predecir cuando son peligrosos y cuando no.\n",
    "\n",
    "Para lograr la tarea, se ha puesto a su disposicion un listado de asteroides con sus caracteristicas y su etiqueta. El dataset esta compuesto por los siguientes campos:\n",
    "\n",
    "- name: Nombre del asteroide\n",
    "- a: Eje semi-mayor (grad)\n",
    "- e: excentricidad (km)\n",
    "- i: Inclinacion con respecto al plano eliptico x-y (grados)\n",
    "- om: Longitud en el nodo ascendente (km)\n",
    "- w: Valor de Perihelio (km)\n",
    "- q: Distancia de Perihelio (km)\n",
    "- ad: Distancia de Afelio (km)\n",
    "- per_y: Periodo orbital (años)\n",
    "- data_arc: Usado para cruzar info.\n",
    "- condition_code: condicion del asteroide. De peor a mejor: 0, 1, 2, 3, 4, 5, 6, 7, D, E\n",
    "- n_obs_used: numero de mediciones\n",
    "- H: parametro de Magnitud Absoluta\n",
    "- pha: VARIABLE OBJETIVO, pregunta, el asteroide presenta un peligro? N o Y\n",
    "- diameter: Diametro (km)\n",
    "- extent: extencion (km x km x km)\n",
    "- albedo: porcentje de radiacion reflejada (Bq)\n",
    "- rot_per: velocidad rotacion (m/s)\n",
    "- GM: Masa global (m)\n",
    "- BV: Volumen (m3)\n",
    "- UB: Cantidad de Ultravioleta reflejada (Bq)\n",
    "- IR: Cantidad de IR reflejados (Bq)\n",
    "- G: Gravedad esperada (m/s2)\n",
    "- moid: ID interno para cruzar datos\n",
    "- class: Tipo de asteroide, 0, 1, 2, 3, 4, 5, 6, 7\n",
    "- n: Rotacion (grados/dias)\n",
    "- per: Periodo orbital (dias)\n",
    "- ma: Anomalia media en grados."
   ]
  },
  {
   "cell_type": "markdown",
   "metadata": {},
   "source": [
    "**Objetivo Principal**\n",
    "- Entrenar un Regresor Logistico capaz de predecir si el asteroide es peligroso o no.\n",
    "\n",
    "El dataset se encuentra en: \n",
    "\n",
    "https://drive.google.com/file/d/1g_7HvzXQCtZ57X3inevTE4mQ49gZU6FW/view?usp=sharing\n",
    "\n",
    "\n",
    "Para esto debe utilizar todos los contenidos vistos en la unidad. Esto incluye, pero no se limita a limpiar, preprocesar y segregar el dataset, entrenar y evaluar el modelo, etc... Cada decision que pueda ser considerada importante debe ser justificada, es decir, debe explicar por que no esta haciendo las cosas de otra manera. Recuerde, analize correctamente los datos, y sea consciente de lo que este haciendo su codigo para evitar errores *paranormales*. Finalmente debe terminar con un resumen de los principales desafios y resultados, comentando los resultados en funcion de las metricas vistas en clase. Para el Accuracy, comentar por que cree que obtuvo ese resultado.\n"
   ]
  },
  {
   "cell_type": "markdown",
   "metadata": {},
   "source": [
    "## Respuesta\n"
   ]
  },
  {
   "cell_type": "code",
   "execution_count": null,
   "metadata": {
    "scrolled": false
   },
   "outputs": [],
   "source": [
    "# Descargue y localice el archivo Asteroides en carpeta datos\n",
    "df = pd.read_csv(\"datos/Asteroides.csv\", sep=';')\n",
    "df.replace(np.nan, -99999, inplace=True) # para reconocer como outlier\n",
    "df['pha'].replace('N', 0, inplace=True)\n",
    "df['pha'].replace('Y', 1, inplace=True)"
   ]
  },
  {
   "cell_type": "markdown",
   "metadata": {},
   "source": [
    "Sorpresivamente, no se puede emplear **df.dropna()**, ya que la gran mayoría de las filas presentan ese valor, por ende, se le asignó el valor de -99999 para que sea considerado como outlier.  \n",
    "Para la columna pha, los asteroides simbolizados con N e Y pasan a tener valores 0 y 1, respectivamente. Esto debido a que KNN nos lanzaba un error de compatibilidad entre 'str' e 'int'."
   ]
  },
  {
   "cell_type": "code",
   "execution_count": null,
   "metadata": {},
   "outputs": [],
   "source": [
    "variable_objetivo = df['pha']\n",
    "df = df.drop(['name','class','pha','extent','GM'], axis=1)\n",
    "df['condition_code'] = df['condition_code'].replace('D', 8)\n",
    "df['condition_code'] = df['condition_code'].replace('E', 9)\n",
    "df = df.apply(pd.to_numeric)\n",
    "\n",
    "# Convertir columna GM  que tiene datos en string (not. cientifica) a float\n",
    "#import re\n",
    "#df= pd.to_numeric(df.apply(lambda x: re.sub(',', '.', str(x))))\n",
    "\n",
    "#df.info()\n",
    "df"
   ]
  },
  {
   "cell_type": "markdown",
   "metadata": {},
   "source": [
    "Se dropearon unas cuantas columnas puesto que molestaban con el estudio"
   ]
  },
  {
   "cell_type": "code",
   "execution_count": null,
   "metadata": {},
   "outputs": [],
   "source": [
    "# Para tener una mayor precision, cambiar estos valores.\n",
    "X = df.iloc[:10000,:] \n",
    "y = variable_objetivo[:10000]"
   ]
  },
  {
   "cell_type": "code",
   "execution_count": null,
   "metadata": {},
   "outputs": [],
   "source": [
    "from sklearn import preprocessing, neighbors\n",
    "from sklearn.model_selection import train_test_split\n",
    "\n",
    "X_train, X_test, y_train, y_test = train_test_split(X,y,test_size=0.2)\n",
    "\n",
    "classifier = neighbors.KNeighborsClassifier()\n",
    "classifier.fit(X_train,y_train)\n",
    "\n",
    "accuracy = classifier.score(X_test,y_test)\n",
    "\n",
    "print(\"La precision del test es de:\")\n",
    "print(accuracy)"
   ]
  },
  {
   "cell_type": "markdown",
   "metadata": {},
   "source": [
    "El método **score(X,y)** retorna la precisión media en los datos de prueba y las etiquetas. En la clasificación  multi-label, esta es la precisión del subconjunto, que es una métrica rigurosa, ya que requiere para cada muestra que cada conjunto de etiquetas se prediga correctamente. Siendo 0 el mínimo y 1 el máximo valor de precisión"
   ]
  },
  {
   "cell_type": "code",
   "execution_count": null,
   "metadata": {
    "scrolled": true
   },
   "outputs": [],
   "source": [
    "example = df.sample(n=100000)\n",
    "print('Se desea estudiar el asteroide con los siguientes valores: ')\n",
    "example"
   ]
  },
  {
   "cell_type": "code",
   "execution_count": null,
   "metadata": {},
   "outputs": [],
   "source": [
    "\n",
    "prediction = classifier.predict(example)\n",
    "if(prediction.all() == 0): print(\"los asteoides no presentan riesgo\")\n",
    "elif(prediction.any() == 1): print(\"El asteroide presenta riesgo\")\n",
    "else:\n",
    "    print(\"No se puede determinar el riesgo del asteoide\")"
   ]
  },
  {
   "cell_type": "markdown",
   "metadata": {},
   "source": [
    "# 2: Hallando la respuesta de la vida"
   ]
  },
  {
   "cell_type": "markdown",
   "metadata": {},
   "source": [
    "Un grupo de arqueologos ha logrado encontrar la ultima pieza de una antigua tablilla sumeria con la respuesta de la vida, y necesitan de tu ayuda para descifrar sus secretos. Normalmente, las tablillan muestran una onda tal que al ser reproducidas en un altavoz, resuenan con otro artefacto sumerio a una cierta frecuencia. Esta frecuencia despues es traducida en una palabra utilizando un diccionario especial. Desafortunadamente, la ultima onda presenta perdida de informacion y ruido, debido al transcurso de los años. \n",
    "\n",
    "Hasta ahora solo han podido descifrar \"La Respuesta de la Vida esta en ______\".\n",
    "\n",
    "Su mision es tomar la poca informacion que se tiene de la onda y tratar de descifrar la señal original.\n",
    "\n",
    "**Objetivo Principal**\n",
    "- Entrenar un Regresor Lineal para estimar la señal original.\n",
    "\n",
    "Se espera que el error de reconstruccion sea el menor posible. Para esto, puede medir el error promedio de las predicciones de su modelo utilizando una metrica como el Error Medio Cuadratico.\n",
    "\n",
    "$$\\frac{1}{N}\\sum_{i=0}^N(y_i - \\hat y_i)^2$$\n",
    "\n",
    "donde $y_i$ es la etiqueta, $\\hat y_i$ es la prediccion de su modelo y $N$ el numero de observaciones. Se recomienda analizar la informacion que se tiene para hacer predicciones mas precisas."
   ]
  },
  {
   "cell_type": "markdown",
   "metadata": {},
   "source": [
    "**El entregable** sera este mismo notebook modificado con todo el procedimiento y los comentarios. Enviar al correo indicado al inicio del documento.\n",
    "Se evaluara el procedimiento y la calidad de las justificaciones, ademas de los resultados obtenidos."
   ]
  },
  {
   "cell_type": "code",
   "execution_count": null,
   "metadata": {},
   "outputs": [],
   "source": [
    "X = pd.read_csv(\"datos/X.csv\", sep=';')\n",
    "y = pd.read_csv(\"datos/y.csv\", sep=';')"
   ]
  },
  {
   "cell_type": "code",
   "execution_count": null,
   "metadata": {
    "scrolled": true
   },
   "outputs": [],
   "source": [
    "fig, ax = plt.subplots(figsize=(6,4), tight_layout=True)\n",
    "ax.plot(X,y, 'bo')"
   ]
  },
  {
   "cell_type": "code",
   "execution_count": null,
   "metadata": {},
   "outputs": [],
   "source": [
    "from sklearn.model_selection import train_test_split\n",
    "X_train, X_test, y_train, y_test = train_test_split(X, y, test_size=0.2)"
   ]
  },
  {
   "cell_type": "code",
   "execution_count": null,
   "metadata": {},
   "outputs": [],
   "source": []
  }
 ],
 "metadata": {
  "kernelspec": {
   "display_name": "Python 3",
   "language": "python",
   "name": "python3"
  },
  "language_info": {
   "codemirror_mode": {
    "name": "ipython",
    "version": 3
   },
   "file_extension": ".py",
   "mimetype": "text/x-python",
   "name": "python",
   "nbconvert_exporter": "python",
   "pygments_lexer": "ipython3",
   "version": "3.8.3"
  }
 },
 "nbformat": 4,
 "nbformat_minor": 5
}
