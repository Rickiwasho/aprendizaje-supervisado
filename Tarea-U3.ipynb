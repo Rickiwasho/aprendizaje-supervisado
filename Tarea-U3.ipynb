{
 "cells": [
  {
   "cell_type": "markdown",
   "metadata": {},
   "source": [
    "# Tarea Unidad 3 - Aprendizaje Supervisado"
   ]
  },
  {
   "cell_type": "markdown",
   "metadata": {},
   "source": [
    "Fecha de entrega: **Viernes 11 de Junio de 2021 a las 23:59**.\n",
    "\n",
    "- Consultas por slack o al correo felipe dot quezada at uach dot cl\n",
    "- 4 integrantes como maximo.\n",
    "\n",
    "Integrantes:\n",
    "- Ricardo Coronado\n",
    "- Diego Sandoval\n"
   ]
  },
  {
   "cell_type": "markdown",
   "metadata": {},
   "source": [
    "La tarea consiste en resolver 2 problemas utilizando los contenidos vistos hasta ahora. En la carpetas `datos/` se encuentran el dataset para el segundo problema. Para el primero problema, existe un link a un archivo compartido en google drive, que se encuentra mas abajo."
   ]
  },
  {
   "cell_type": "markdown",
   "metadata": {},
   "source": [
    "# 1: Clasificacion de Asteroides"
   ]
  },
  {
   "cell_type": "markdown",
   "metadata": {},
   "source": [
    "**ALERTA! IMPACTO DE ASTEROIDE!** La nueva base espacial de Pluto esta constantemente bajo ataque de asteroides provenientes de un agujero blanco cercano. No son asteroides muy grandes, pero si han causado importantes daños en la infraestructura. Por esta razon, la Union Intergalactica Terrestre le ha pedido a usted, como experto en aprendizaje supervisado, hacerse cargo del problema. La base cuenta con equipamiento especial para detectar y pulverizar a los asteroides, sin embargo, como los recursos son limitados, se debe usar correctamente. Las características del asteroide se pueden calcular al instante con instrumentos especializados, solo hace falta alguna manera de poder utilizar esa información y predecir cuando son peligrosos y cuando no.\n",
    "\n",
    "Para lograr la tarea, se ha puesto a su disposicion un listado de asteroides con sus caracteristicas y su etiqueta. El dataset esta compuesto por los siguientes campos:\n",
    "\n",
    "- name: Nombre del asteroide\n",
    "- a: Eje semi-mayor (grad)\n",
    "- e: excentricidad (km)\n",
    "- i: Inclinacion con respecto al plano eliptico x-y (grados)\n",
    "- om: Longitud en el nodo ascendente (km)\n",
    "- w: Valor de Perihelio (km)\n",
    "- q: Distancia de Perihelio (km)\n",
    "- ad: Distancia de Afelio (km)\n",
    "- per_y: Periodo orbital (años)\n",
    "- data_arc: Usado para cruzar info.\n",
    "- condition_code: condicion del asteroide. De peor a mejor: 0, 1, 2, 3, 4, 5, 6, 7, D, E\n",
    "- n_obs_used: numero de mediciones\n",
    "- H: parametro de Magnitud Absoluta\n",
    "- pha: VARIABLE OBJETIVO, pregunta, el asteroide presenta un peligro? N o Y\n",
    "- diameter: Diametro (km)\n",
    "- extent: extencion (km x km x km)\n",
    "- albedo: porcentje de radiacion reflejada (Bq)\n",
    "- rot_per: velocidad rotacion (m/s)\n",
    "- GM: Masa global (m)\n",
    "- BV: Volumen (m3)\n",
    "- UB: Cantidad de Ultravioleta reflejada (Bq)\n",
    "- IR: Cantidad de IR reflejados (Bq)\n",
    "- G: Gravedad esperada (m/s2)\n",
    "- moid: ID interno para cruzar datos\n",
    "- class: Tipo de asteroide, 0, 1, 2, 3, 4, 5, 6, 7\n",
    "- n: Rotacion (grados/dias)\n",
    "- per: Periodo orbital (dias)\n",
    "- ma: Anomalia media en grados."
   ]
  },
  {
   "cell_type": "markdown",
   "metadata": {},
   "source": [
    "**Objetivo Principal**\n",
    "- Entrenar un Regresor Logistico capaz de predecir si el asteroide es peligroso o no.\n",
    "\n",
    "El dataset se encuentra en: \n",
    "\n",
    "https://drive.google.com/file/d/1g_7HvzXQCtZ57X3inevTE4mQ49gZU6FW/view?usp=sharing\n",
    "\n",
    "\n",
    "Para esto debe utilizar todos los contenidos vistos en la unidad. Esto incluye, pero no se limita a limpiar, preprocesar y segregar el dataset, entrenar y evaluar el modelo, etc... Cada decision que pueda ser considerada importante debe ser justificada, es decir, debe explicar por que no esta haciendo las cosas de otra manera. Recuerde, analize correctamente los datos, y sea consciente de lo que este haciendo su codigo para evitar errores *paranormales*. Finalmente debe terminar con un resumen de los principales desafios y resultados, comentando los resultados en funcion de las metricas vistas en clase. Para el Accuracy, comentar por que cree que obtuvo ese resultado.\n"
   ]
  },
  {
   "cell_type": "markdown",
   "metadata": {},
   "source": [
    "## Respuesta\n"
   ]
  },
  {
   "cell_type": "code",
   "execution_count": null,
   "metadata": {},
   "outputs": [],
   "source": [
    "%matplotlib notebook\n",
    "import matplotlib.pyplot as plt\n",
    "import pandas as pd\n",
    "import numpy as np\n",
    "import seaborn as sn"
   ]
  },
  {
   "cell_type": "code",
   "execution_count": null,
   "metadata": {
    "scrolled": false
   },
   "outputs": [],
   "source": [
    "# Descargue y localice el archivo Asteroides en carpeta datos\n",
    "df = pd.read_csv(\"datos/Asteroides.csv\", sep=';')\n",
    "df.replace(np.nan, -99999, inplace=True) # para reconocer como outlier\n",
    "df = df.drop(['name'], axis=1)"
   ]
  },
  {
   "cell_type": "markdown",
   "metadata": {},
   "source": [
    "Sorpresivamente, no se puede emplear **df.dropna()**, ya que la gran mayoría de las filas presentan ese valor, por ende, se le asignó el valor de -99999 para que sea considerado como outlier.  \n",
    "Para la columna pha, los asteroides simbolizados con N e Y pasan a tener valores 0 y 1, respectivamente. Esto debido a que KNN nos lanzaba un error de compatibilidad entre 'str' e 'int'. **Recordar que KNN funciona calculando la distancia**. "
   ]
  },
  {
   "cell_type": "code",
   "execution_count": null,
   "metadata": {
    "scrolled": false
   },
   "outputs": [],
   "source": [
    "variable_objetivo = df['pha']\n",
    "variable_objetivo.replace('N', 0, inplace=True)\n",
    "variable_objetivo.replace('Y', 1, inplace=True)\n",
    "display(variable_objetivo.value_counts())"
   ]
  },
  {
   "cell_type": "markdown",
   "metadata": {},
   "source": [
    "De esta forma, podemos asegurar el **desbalance de clase**.\n"
   ]
  },
  {
   "cell_type": "code",
   "execution_count": null,
   "metadata": {},
   "outputs": [],
   "source": [
    "# Aplicando Undersampling\n"
   ]
  },
  {
   "cell_type": "code",
   "execution_count": null,
   "metadata": {},
   "outputs": [],
   "source": [
    "# Aplicando Oversampling"
   ]
  },
  {
   "cell_type": "code",
   "execution_count": null,
   "metadata": {},
   "outputs": [],
   "source": [
    "# En GM, convertir comas a puntos\n",
    "import re\n",
    "df['GM']= df['GM'].apply(lambda x: re.sub(',', '.', str(x)))\n",
    "df['condition_code'] = df['condition_code'].replace('D', 8)\n",
    "df['condition_code'] = df['condition_code'].replace('E', 9)\n",
    "df['GM'] = df['GM'].astype(float)"
   ]
  },
  {
   "cell_type": "code",
   "execution_count": null,
   "metadata": {},
   "outputs": [],
   "source": [
    "# Convertir extent que tiene los datos en formato AxBxC A*B*C\n",
    "def extent_str_to_value(x):\n",
    "    if isinstance(x, str) and 'x' in x:\n",
    "        valores = x.split('x')\n",
    "        valor = float(valores[0]) * float(valores[1]) * float(valores[2])\n",
    "        return valor\n",
    "    else:\n",
    "        return float(x)\n",
    "\n",
    "df['extent'] = df['extent'].apply(extent_str_to_value)"
   ]
  },
  {
   "cell_type": "code",
   "execution_count": null,
   "metadata": {},
   "outputs": [],
   "source": [
    "# Class presenta problemas\n",
    "df['class'].replace('MBA', 0, inplace=True)\n",
    "df['class'].replace('OMB', 1, inplace=True)\n",
    "df['class'].replace('IMB', 2, inplace=True)\n",
    "df['class'].replace('MCA', 3, inplace=True)\n",
    "df['class'].replace('APO', 4, inplace=True)\n",
    "df['class'].replace('AMO', 5, inplace=True)\n",
    "df['class'].replace('TJN', 6, inplace=True)\n",
    "df['class'].replace('TNO', 7, inplace=True)\n",
    "df['class'].replace('ATE', 8, inplace=True)\n",
    "df['class'].replace('CEN', 9, inplace=True)\n",
    "df['class'].replace('AST', 10, inplace=True)\n",
    "df['class'].replace('IEO', 11, inplace=True)\n",
    "df['class'].replace('HYA', 12, inplace=True)\n",
    "df['class'].replace('PAA', 13, inplace=True)"
   ]
  },
  {
   "cell_type": "markdown",
   "metadata": {},
   "source": [
    "Se dropeó la columna 'name', puesto que molestaba el estudio.    \n",
    "Ahora evaluaremos que tan correlacionados están los datos de nuestra matriz de estudio"
   ]
  },
  {
   "cell_type": "code",
   "execution_count": null,
   "metadata": {
    "scrolled": false
   },
   "outputs": [],
   "source": [
    "df = df.apply(pd.to_numeric)\n",
    "\n",
    "import matplotlib.cm as cm\n",
    "fig, ax = plt.subplots(figsize=(15,5), tight_layout=True)\n",
    "f = ax.matshow(df.corr(), vmin=-1, vmax=1)\n",
    "\n",
    "ax.set_xticks(np.arange(len(df.columns)))\n",
    "ax.set_yticks(np.arange(len(df.columns)))\n",
    "ax.set_xticklabels(df.columns,rotation=90)\n",
    "ax.set_yticklabels(df.columns)\n",
    "\n",
    "fig.colorbar(f, ax=ax);"
   ]
  },
  {
   "cell_type": "markdown",
   "metadata": {},
   "source": [
    "### Explicar conclusión de la correlación y medidas para solucionar el problema !!!!!!!!!!!!!!!!!!!!!!!!!!!!!!!!"
   ]
  },
  {
   "cell_type": "code",
   "execution_count": null,
   "metadata": {},
   "outputs": [],
   "source": [
    "# Para tener una mayor precision, cambiar estos valores.\n",
    "X = df\n",
    "y = variable_objetivo"
   ]
  },
  {
   "cell_type": "markdown",
   "metadata": {},
   "source": [
    "Se particionó el conjunto de datos en proporción 80:20, 80% para el entrenamiento y 20% para el testeo"
   ]
  },
  {
   "cell_type": "code",
   "execution_count": null,
   "metadata": {},
   "outputs": [],
   "source": [
    "from sklearn import preprocessing, neighbors\n",
    "from sklearn.model_selection import train_test_split\n",
    "\n",
    "X_train, X_test, y_train, y_test = train_test_split(X,y,test_size=0.2)\n",
    "\n",
    "classifier = neighbors.KNeighborsClassifier()\n",
    "classifier.fit(X_train,y_train)\n",
    "\n",
    "accuracy = classifier.score(X_test,y_test)\n",
    "\n",
    "print(\"La precision del test es de:\")\n",
    "print(accuracy)"
   ]
  },
  {
   "cell_type": "markdown",
   "metadata": {},
   "source": [
    "El método **score(X,y)** retorna la precisión media en los datos de prueba y las etiquetas. En la clasificación  multi-label, esta es la precisión del subconjunto, que es una métrica rigurosa, ya que requiere para cada muestra que cada conjunto de etiquetas se prediga correctamente. Siendo 0 el mínimo y 1 el máximo valor de precisión"
   ]
  },
  {
   "cell_type": "code",
   "execution_count": null,
   "metadata": {
    "scrolled": true
   },
   "outputs": [],
   "source": [
    "# generamos 1000 muestras aleatorias del conjunto de datos para evaluar la eficacia del algoritmo\n",
    "example = df.sample(n=1000)\n",
    "print('Se desea estudiar el asteroide con los siguientes valores: ')\n",
    "example"
   ]
  },
  {
   "cell_type": "code",
   "execution_count": null,
   "metadata": {},
   "outputs": [],
   "source": [
    "prediction = classifier.predict(example)\n",
    "if(prediction.all() == 0): \n",
    "    print(\"los asteoides no presentan riesgo\")\n",
    "\n",
    "else:\n",
    "    if(prediction.any() == 1): \n",
    "        print(\"El asteroide presenta riesgo\")\n",
    "    else:\n",
    "        print(\";)\")"
   ]
  },
  {
   "cell_type": "markdown",
   "metadata": {},
   "source": [
    "Se intuye que la clase presenta un desbalance. Esto porque los asteroides que no son un riesgo son más ¿Cómo solucionar esto?...."
   ]
  },
  {
   "cell_type": "markdown",
   "metadata": {},
   "source": [
    "# 2: Hallando la respuesta de la vida"
   ]
  },
  {
   "cell_type": "markdown",
   "metadata": {},
   "source": [
    "Un grupo de arqueologos ha logrado encontrar la ultima pieza de una antigua tablilla sumeria con la respuesta de la vida, y necesitan de tu ayuda para descifrar sus secretos. Normalmente, las tablillan muestran una onda tal que al ser reproducidas en un altavoz, resuenan con otro artefacto sumerio a una cierta frecuencia. Esta frecuencia despues es traducida en una palabra utilizando un diccionario especial. Desafortunadamente, la ultima onda presenta perdida de informacion y ruido, debido al transcurso de los años. \n",
    "\n",
    "Hasta ahora solo han podido descifrar \"La Respuesta de la Vida esta en ______\".\n",
    "\n",
    "Su mision es tomar la poca informacion que se tiene de la onda y tratar de descifrar la señal original.\n",
    "\n",
    "**Objetivo Principal**\n",
    "- Entrenar un Regresor Lineal para estimar la señal original.\n",
    "\n",
    "Se espera que el error de reconstruccion sea el menor posible. Para esto, puede medir el error promedio de las predicciones de su modelo utilizando una metrica como el Error Medio Cuadratico.\n",
    "\n",
    "$$\\frac{1}{N}\\sum_{i=0}^N(y_i - \\hat y_i)^2$$\n",
    "\n",
    "donde $y_i$ es la etiqueta, $\\hat y_i$ es la prediccion de su modelo y $N$ el numero de observaciones. Se recomienda analizar la informacion que se tiene para hacer predicciones mas precisas."
   ]
  },
  {
   "cell_type": "markdown",
   "metadata": {},
   "source": [
    "**El entregable** sera este mismo notebook modificado con todo el procedimiento y los comentarios. Enviar al correo indicado al inicio del documento.\n",
    "Se evaluara el procedimiento y la calidad de las justificaciones, ademas de los resultados obtenidos."
   ]
  },
  {
   "cell_type": "code",
   "execution_count": null,
   "metadata": {},
   "outputs": [],
   "source": [
    "X = pd.read_csv(\"datos/X.csv\", sep=';')\n",
    "y = pd.read_csv(\"datos/y.csv\", sep=';')"
   ]
  },
  {
   "cell_type": "code",
   "execution_count": null,
   "metadata": {
    "scrolled": true
   },
   "outputs": [],
   "source": [
    "fig, ax = plt.subplots(figsize=(6,4), tight_layout=True)\n",
    "ax.plot(X,y, 'bo')"
   ]
  },
  {
   "cell_type": "code",
   "execution_count": null,
   "metadata": {},
   "outputs": [],
   "source": [
    "from sklearn.model_selection import train_test_split\n",
    "from sklearn.linear_model import LinearRegression\n",
    "from sklearn.preprocessing import PolynomialFeatures\n",
    "from sklearn.metrics import mean_squared_error, r2_score #Error medio cuadratico\n",
    "X_train, X_test, y_train, y_test = train_test_split(X, y, test_size=0.2) #Se separa el set para entrenamiento y prueba"
   ]
  },
  {
   "cell_type": "code",
   "execution_count": null,
   "metadata": {},
   "outputs": [],
   "source": [
    "best_error= 1e9\n",
    "best_grade= 0\n",
    "\n",
    "for i in range(2, 20):\n",
    "    poly = PolynomialFeatures(degree = i)\n",
    "    X_poly = poly.fit_transform(X_train)\n",
    "    poly.fit(X_train, y_train)\n",
    "\n",
    "    model = LinearRegression()\n",
    "    model.fit(X_poly, y_train)\n",
    "\n",
    "    y_pred = model.predict(X_poly)\n",
    "    err = mean_squared_error(y_train, y_pred)\n",
    "    if(err < best_error):\n",
    "        best_error = err\n",
    "        best_grade = i\n",
    "    \n",
    "    #print(model.coef_)\n",
    "\n",
    "    #fig2, ax2 = plt.subplots(figsize=(6,4), tight_layout=True)\n",
    "    #plt.scatter(X_train, y_train)\n",
    "    #plt.plot(X_train, y_pred) #No grafica bien D:\n",
    "    #plt.scatter(X_train, y_pred)\n",
    "\n",
    "    #print(mean_squared_error(y_train, y_pred))\n",
    "    #print(r2_score(y_train, y_pred))\n",
    "\n",
    "print(best_error)\n",
    "print(best_grade)\n",
    "\n",
    "poly = PolynomialFeatures(degree = best_grade)\n",
    "X_poly = poly.fit_transform(X_train)\n",
    "poly.fit(X_train, y_train)\n",
    "\n",
    "model = LinearRegression()\n",
    "model.fit(X_poly, y_train)\n",
    "\n",
    "y_pred = model.predict(X_poly)\n",
    "fig2, ax2 = plt.subplots(figsize=(6,4), tight_layout=True)\n",
    "plt.scatter(X_train, y_train)\n",
    "#plt.plot(X_train, y_pred) #No grafica bien D:\n",
    "plt.scatter(X_train, y_pred)\n"
   ]
  }
 ],
 "metadata": {
  "kernelspec": {
   "display_name": "Python 3",
   "language": "python",
   "name": "python3"
  },
  "language_info": {
   "codemirror_mode": {
    "name": "ipython",
    "version": 3
   },
   "file_extension": ".py",
   "mimetype": "text/x-python",
   "name": "python",
   "nbconvert_exporter": "python",
   "pygments_lexer": "ipython3",
   "version": "3.8.3"
  }
 },
 "nbformat": 4,
 "nbformat_minor": 5
}
